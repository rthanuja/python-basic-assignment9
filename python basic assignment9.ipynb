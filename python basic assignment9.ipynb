{
 "cells": [
  {
   "cell_type": "code",
   "execution_count": null,
   "id": "36c058c8",
   "metadata": {},
   "outputs": [],
   "source": [
    "1. To what does a relative path refer?\n",
    "\n",
    "Relative path in python refers to the location of a directory relative to the current working directory by default otherwise \n",
    "with respect to the directory indicated by start.\n",
    "os.path.relpath(path,start=os.curdir)"
   ]
  },
  {
   "cell_type": "code",
   "execution_count": 1,
   "id": "0cebbd9d",
   "metadata": {},
   "outputs": [
    {
     "name": "stdout",
     "output_type": "stream",
     "text": [
      "path:\n",
      " C:\\Users\\rthan\\Downloads\\Assignment25.txt\n",
      "current working directory:\n",
      " C:\\Users\\rthan\\jupyter f&p\\assignments\n",
      "relative path: \n",
      " ..\\..\\Downloads\\Assignment25.txt\n"
     ]
    }
   ],
   "source": [
    "import os\n",
    "path='C:\\\\Users\\\\rthan\\\\Downloads\\\\Assignment25.txt'\n",
    "print(\"path:\\n\",path)\n",
    "print(\"current working directory:\\n\",os.getcwd())\n",
    "s=os.path.relpath(path)\n",
    "print(\"relative path: \\n\",s)"
   ]
  },
  {
   "cell_type": "code",
   "execution_count": null,
   "id": "18632ab7",
   "metadata": {},
   "outputs": [],
   "source": [
    "2. What does an absolute path start with your operating system?\n",
    "\n",
    "absolute path starts from the root folder(c:\\\\)"
   ]
  },
  {
   "cell_type": "code",
   "execution_count": null,
   "id": "2fa4d136",
   "metadata": {},
   "outputs": [],
   "source": [
    "3. What do the functions os.getcwd() and os.chdir() do?\n",
    "\n",
    "os.getcwd() gives the location of current working directory\n",
    "os.chdir()  used to change the current working directory to specified path"
   ]
  },
  {
   "cell_type": "code",
   "execution_count": 2,
   "id": "60b4389f",
   "metadata": {},
   "outputs": [
    {
     "name": "stdout",
     "output_type": "stream",
     "text": [
      "C:\\Users\\rthan\\jupyter f&p\\assignments\n",
      "C:\\Users\\rthan\n"
     ]
    }
   ],
   "source": [
    "import os\n",
    "print(os.getcwd())\n",
    "path='C:\\\\Users\\\\rthan'\n",
    "os.chdir(path)\n",
    "print(os.getcwd())\n"
   ]
  },
  {
   "cell_type": "code",
   "execution_count": null,
   "id": "fef0bc47",
   "metadata": {},
   "outputs": [],
   "source": [
    "4. What are the . and .. folders?\n",
    "\n",
    "they are not real folders but special names that can be used in the path.\n",
    "A single dot means that the module or package referenced is in the same directory as the current location.\n",
    "Two dots mean that it is in the parent directory of the current location, in other words the directory above."
   ]
  },
  {
   "cell_type": "code",
   "execution_count": null,
   "id": "d8368107",
   "metadata": {},
   "outputs": [],
   "source": [
    "5. In C:\\bacon\\eggs\\spam.txt, which part is the dir name, and which part is the base name?\n",
    "    \n",
    "C:\\bacon\\eggs  is the directory name\n",
    "spam.txt is the basename"
   ]
  },
  {
   "cell_type": "code",
   "execution_count": 3,
   "id": "8d5c317d",
   "metadata": {},
   "outputs": [
    {
     "name": "stdout",
     "output_type": "stream",
     "text": [
      "directory name:\n",
      " C:\\bacon\\eggs\n",
      "base name:\n",
      " spam.txt\n"
     ]
    }
   ],
   "source": [
    "import os\n",
    "path= 'C:\\\\bacon\\\\eggs\\\\spam.txt'\n",
    "print(\"directory name:\\n\",os.path.dirname(path))\n",
    "print(\"base name:\\n\",os.path.basename(path))"
   ]
  },
  {
   "cell_type": "code",
   "execution_count": null,
   "id": "8e7ceac2",
   "metadata": {},
   "outputs": [],
   "source": [
    "6. What are the three “mode” arguments that can be passed to the open() function?\n",
    "\n",
    "syntax: open(file,mode)\n",
    "mode is the optional string that sepcifies the mode in which file is opened\n",
    "'r' - opens a file for reading (default) and error if the file does not exist\n",
    "'w' - opens a file for writing,creating the file if it does not exist\n",
    "'x' - create a new file and open it for writing returns an error if the file exist\n",
    "'a' - opens a file for writing, appending to the end of the file if it exist"
   ]
  },
  {
   "cell_type": "code",
   "execution_count": null,
   "id": "cd71c315",
   "metadata": {},
   "outputs": [],
   "source": [
    "7. What happens if an existing file is opened in write mode?\n",
    "\n",
    "If an exisiting file is opened in write mode,it's contents will be discarded and it will be treated as empty file.basically \n",
    "overwrites the existing content."
   ]
  },
  {
   "cell_type": "code",
   "execution_count": null,
   "id": "1fec4a4c",
   "metadata": {},
   "outputs": [],
   "source": [
    "8. How do you tell the difference between read() and readlines()?\n",
    "\n",
    "read() reads the entire file and returns a string.\n",
    "readlines() returns the list of strings representing the lines of the file.\n"
   ]
  },
  {
   "cell_type": "code",
   "execution_count": 1,
   "id": "310dd8e3",
   "metadata": {},
   "outputs": [
    {
     "data": {
      "text/plain": [
       "'this is the first line\\nsecond line\\nthird line'"
      ]
     },
     "execution_count": 1,
     "metadata": {},
     "output_type": "execute_result"
    }
   ],
   "source": [
    "f=open(\"asign.txt\",'r')\n",
    "f.read()\n"
   ]
  },
  {
   "cell_type": "code",
   "execution_count": 2,
   "id": "401d4aa0",
   "metadata": {},
   "outputs": [
    {
     "data": {
      "text/plain": [
       "['this is the first line\\n', 'second line\\n', 'third line']"
      ]
     },
     "execution_count": 2,
     "metadata": {},
     "output_type": "execute_result"
    }
   ],
   "source": [
    "f.seek(0)\n",
    "f.readlines()"
   ]
  },
  {
   "cell_type": "code",
   "execution_count": null,
   "id": "96261eed",
   "metadata": {},
   "outputs": [],
   "source": [
    "9. What data structure does a shelf value resemble?\n",
    "\n",
    "A shelf value resembles a dictionary value.It has keys and values."
   ]
  }
 ],
 "metadata": {
  "kernelspec": {
   "display_name": "Python 3 (ipykernel)",
   "language": "python",
   "name": "python3"
  },
  "language_info": {
   "codemirror_mode": {
    "name": "ipython",
    "version": 3
   },
   "file_extension": ".py",
   "mimetype": "text/x-python",
   "name": "python",
   "nbconvert_exporter": "python",
   "pygments_lexer": "ipython3",
   "version": "3.10.9"
  }
 },
 "nbformat": 4,
 "nbformat_minor": 5
}
